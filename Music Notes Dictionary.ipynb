{
 "cells": [
  {
   "cell_type": "code",
   "execution_count": 98,
   "metadata": {},
   "outputs": [
    {
     "name": "stdout",
     "output_type": "stream",
     "text": [
      "Choose the note you wanna hear\n",
      "g.mp3\n"
     ]
    },
    {
     "data": {
      "text/plain": [
       "'g'"
      ]
     },
     "metadata": {},
     "output_type": "display_data"
    }
   ],
   "source": [
    "'''\n",
    "Creating a Dicionary of Music Notes\n",
    "'''\n",
    "#this example do not contain the right notes, those need to be\n",
    "#add after recording on my keyboard\n",
    "\n",
    "#Modules Required\n",
    "from playsound import playsound\n",
    "from ipywidgets import interact, interactive , fixed\n",
    "import ipywidgets as widgets\n",
    "\n",
    "kys=['c','d','e','f','g','a','b']\n",
    "nts={kys[0]:'c.mp3',kys[1]:'d.mp3',kys[2]:'e.mp3',kys[3]:'f.mp3',kys[4]:'g.mp3',kys[5]:'a.mp3',kys[6]:'b.mp3'}\n",
    "\n",
    "#this function just allow to choose a value from the dic\n",
    "def player():\n",
    "     \n",
    "    x=nts\n",
    "    def f(x):\n",
    "        m=(nts[x])\n",
    "        print('Choose the note you wanna hear')\n",
    "        print(m)\n",
    "        playsound(m)\n",
    "        return x #this contain the element \n",
    "    interact(f, x=kys)#This line is the interactive ,square to choose \n",
    "    \n",
    "\n",
    "    \n",
    "print(player())"
   ]
  },
  {
   "cell_type": "code",
   "execution_count": null,
   "metadata": {
    "collapsed": true
   },
   "outputs": [],
   "source": []
  }
 ],
 "metadata": {
  "anaconda-cloud": {},
  "kernelspec": {
   "display_name": "Python [default]",
   "language": "python",
   "name": "python3"
  },
  "language_info": {
   "codemirror_mode": {
    "name": "ipython",
    "version": 3
   },
   "file_extension": ".py",
   "mimetype": "text/x-python",
   "name": "python",
   "nbconvert_exporter": "python",
   "pygments_lexer": "ipython3",
   "version": "3.5.6"
  },
  "widgets": {
   "state": {
    "482865425acb4154b7d3de65b79e3567": {
     "views": [
      {
       "cell_index": 0
      }
     ]
    },
    "65c85d76791747e4a8429aa377ffbe47": {
     "views": [
      {
       "cell_index": 0
      }
     ]
    }
   },
   "version": "1.2.0"
  }
 },
 "nbformat": 4,
 "nbformat_minor": 1
}
